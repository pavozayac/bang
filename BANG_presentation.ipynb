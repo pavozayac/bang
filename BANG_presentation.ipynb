{
  "nbformat": 4,
  "nbformat_minor": 0,
  "metadata": {
    "colab": {
      "provenance": [],
      "gpuType": "T4",
      "authorship_tag": "ABX9TyPq5wDpkpy6ptcWtLv21X+V"
    },
    "kernelspec": {
      "name": "python3",
      "display_name": "Python 3"
    },
    "language_info": {
      "name": "python"
    },
    "accelerator": "GPU"
  },
  "cells": [
    {
      "cell_type": "code",
      "source": [
        "pip install numba"
      ],
      "metadata": {
        "colab": {
          "base_uri": "https://localhost:8080/"
        },
        "id": "87bes_cMFqQF",
        "outputId": "12898c88-f6fe-4daa-c43f-9ad346d969ab"
      },
      "execution_count": 1,
      "outputs": [
        {
          "output_type": "stream",
          "name": "stdout",
          "text": [
            "Requirement already satisfied: numba in /usr/local/lib/python3.10/dist-packages (0.60.0)\n",
            "Requirement already satisfied: llvmlite<0.44,>=0.43.0dev0 in /usr/local/lib/python3.10/dist-packages (from numba) (0.43.0)\n",
            "Requirement already satisfied: numpy<2.1,>=1.22 in /usr/local/lib/python3.10/dist-packages (from numba) (1.26.4)\n"
          ]
        }
      ]
    },
    {
      "cell_type": "markdown",
      "source": [
        "#BooleAn Networks on Gpu (BANG) - demonstration\n",
        "This notebook showcases abilities of BANG, a python library for simulation of Probabilistic Boolean Networks on GPU."
      ],
      "metadata": {
        "id": "X50stypjRZvu"
      }
    },
    {
      "cell_type": "code",
      "source": [
        "pip install -i https://test.pypi.org/simple/ --extra-index-url https://pypi.org/simple/ bang-gpu==0.0.1a1"
      ],
      "metadata": {
        "colab": {
          "base_uri": "https://localhost:8080/"
        },
        "id": "5udxao8g0znM",
        "outputId": "9be4c933-4dfe-4a89-b9b3-0ae829a24dbd"
      },
      "execution_count": 1,
      "outputs": [
        {
          "output_type": "stream",
          "name": "stdout",
          "text": [
            "Looking in indexes: https://test.pypi.org/simple/, https://pypi.org/simple/\n",
            "Collecting bang-gpu==0.0.1a1\n",
            "  Downloading https://test-files.pythonhosted.org/packages/9b/e0/525c2a2ce57018e241fa7b225184a9e912d3a8c84a6320a04a9803e70134/bang_gpu-0.0.1a1-cp310-cp310-manylinux_2_17_x86_64.manylinux2014_x86_64.whl.metadata (14 kB)\n",
            "Collecting python-libsbml (from bang-gpu==0.0.1a1)\n",
            "  Downloading python_libsbml-5.20.4-cp310-cp310-manylinux_2_17_x86_64.manylinux2014_x86_64.whl.metadata (532 bytes)\n",
            "Downloading https://test-files.pythonhosted.org/packages/9b/e0/525c2a2ce57018e241fa7b225184a9e912d3a8c84a6320a04a9803e70134/bang_gpu-0.0.1a1-cp310-cp310-manylinux_2_17_x86_64.manylinux2014_x86_64.whl (59.5 MB)\n",
            "\u001b[2K   \u001b[90m━━━━━━━━━━━━━━━━━━━━━━━━━━━━━━━━━━━━━━━━\u001b[0m \u001b[32m59.5/59.5 MB\u001b[0m \u001b[31m7.3 MB/s\u001b[0m eta \u001b[36m0:00:00\u001b[0m\n",
            "\u001b[?25hDownloading python_libsbml-5.20.4-cp310-cp310-manylinux_2_17_x86_64.manylinux2014_x86_64.whl (8.0 MB)\n",
            "\u001b[2K   \u001b[90m━━━━━━━━━━━━━━━━━━━━━━━━━━━━━━━━━━━━━━━━\u001b[0m \u001b[32m8.0/8.0 MB\u001b[0m \u001b[31m71.4 MB/s\u001b[0m eta \u001b[36m0:00:00\u001b[0m\n",
            "\u001b[?25hInstalling collected packages: python-libsbml, bang-gpu\n",
            "Successfully installed bang-gpu-0.0.1a1 python-libsbml-5.20.4\n"
          ]
        }
      ]
    },
    {
      "cell_type": "markdown",
      "source": [
        "##What is a (Probabilistic) Boolean Network?\n",
        "Probabilistic Boolean Networks are mathematical structures consisting of a set of Boolean variables as well as one or more functions corresponding to each variable and computing its state based on current values of variables. Eventually after long enough time states of these Networks stabilize into just a few constantly recurring values called \"attractors\"\n",
        "\n",
        "##What are Probabilistic Boolean Networks used for?\n",
        "Probabilistic Boolean Networks in spite of a relatively simple structure allow to model behaviour of complex systems in discrete time series. One of the most often modelled objects are **Gene Regulatory Networks**, used for modelling evolution of cell in a time period. Nodes of Boolean Networks correspond well to the genes of a cell and attractors are a great representation of final stages of cell evolution. ![placeholder-gene-network.jpg](data:image/jpeg;base64,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)"
      ],
      "metadata": {
        "id": "kvwfLLVOTdvr"
      }
    },
    {
      "cell_type": "markdown",
      "source": [
        "##Loading network from a file\n",
        "\n",
        "Probabilistic Boolean Networks can be represented in an .*sbml* format which is an extension of XML and a standard for representing biological models.\n",
        "\n",
        "Alternatively we can import files in .*pbn* format which was used in previous software modelling PBNs.\n",
        "\n",
        "We start by downloading file containing a simple PBN."
      ],
      "metadata": {
        "id": "5H_lKPItz_tY"
      }
    },
    {
      "cell_type": "code",
      "source": [
        "import requests\n",
        "\n",
        "url = \"https://raw.githubusercontent.com/pavozayac/bang/refs/heads/main/tests/test2.pbn\"\n",
        "\n",
        "response = requests.get(url)\n",
        "content = response.text\n",
        "\n",
        "with open(\"example_network.pbn\", \"w\") as file:\n",
        "    file.write(content)"
      ],
      "metadata": {
        "id": "6oCCmZ3aTdZ8"
      },
      "execution_count": 2,
      "outputs": []
    },
    {
      "cell_type": "markdown",
      "source": [
        "Now we can load Probabilistic Boolean Network from this file\n"
      ],
      "metadata": {
        "id": "ZhST3bXUDQJL"
      }
    },
    {
      "cell_type": "code",
      "source": [
        "import bang\n",
        "\n",
        "pbn = bang.load_from_file(\"example_network.pbn\", \"assa\")"
      ],
      "metadata": {
        "colab": {
          "base_uri": "https://localhost:8080/"
        },
        "id": "nQoctuKGCd0H",
        "outputId": "e0624835-744f-4025-d2ec-cbb263f9352e"
      },
      "execution_count": 6,
      "outputs": [
        {
          "output_type": "stream",
          "name": "stdout",
          "text": [
            "name: x0\n",
            "name: x1\n",
            "name: x2\n"
          ]
        }
      ]
    },
    {
      "cell_type": "markdown",
      "source": [
        "This method writes down names of the nodes of our network. Now we can load data from our PBN into our module simulating Network:"
      ],
      "metadata": {
        "id": "QzgBT0ygEBVh"
      }
    },
    {
      "cell_type": "code",
      "source": [
        "bang.initialise_PBN(pbn)"
      ],
      "metadata": {
        "colab": {
          "base_uri": "https://localhost:8080/",
          "height": 144
        },
        "id": "6uSoRIemEAqt",
        "outputId": "cf39e9ff-42ce-48e8-b4f1-90f7d7887863"
      },
      "execution_count": 9,
      "outputs": [
        {
          "output_type": "error",
          "ename": "AttributeError",
          "evalue": "module 'bang' has no attribute 'initialise_PBN'",
          "traceback": [
            "\u001b[0;31m---------------------------------------------------------------------------\u001b[0m",
            "\u001b[0;31mAttributeError\u001b[0m                            Traceback (most recent call last)",
            "\u001b[0;32m<ipython-input-9-87c4b14f360c>\u001b[0m in \u001b[0;36m<cell line: 1>\u001b[0;34m()\u001b[0m\n\u001b[0;32m----> 1\u001b[0;31m \u001b[0mbang\u001b[0m\u001b[0;34m.\u001b[0m\u001b[0minitialise_PBN\u001b[0m\u001b[0;34m(\u001b[0m\u001b[0mpbn\u001b[0m\u001b[0;34m)\u001b[0m\u001b[0;34m\u001b[0m\u001b[0;34m\u001b[0m\u001b[0m\n\u001b[0m",
            "\u001b[0;31mAttributeError\u001b[0m: module 'bang' has no attribute 'initialise_PBN'"
          ]
        }
      ]
    },
    {
      "cell_type": "markdown",
      "source": [
        "Now our Probabilistic Boolean Network is ready to be simulated on GPU! <br>\n",
        "We can run a simple test that runs five steps on multiple Networks at once and returns their states.\n",
        "WARNING: We need to be sure to have GPU supporting CUDA on our machine."
      ],
      "metadata": {
        "id": "4_fb_59iE3wL"
      }
    },
    {
      "cell_type": "code",
      "source": [
        "from numba import cuda\n",
        "\n",
        "#We make sure to have CUDA\n",
        "gpu_available = cuda.is_available()\n",
        "if not gpu_available:\n",
        "  print(\"Device with CUDA required!\")\n",
        "else:\n",
        "  bang.german_gpu_run()"
      ],
      "metadata": {
        "id": "AGhyfW9rD-7T"
      },
      "execution_count": null,
      "outputs": []
    },
    {
      "cell_type": "code",
      "source": [],
      "metadata": {
        "colab": {
          "base_uri": "https://localhost:8080/",
          "height": 144
        },
        "id": "z8oVZyP6FWlX",
        "outputId": "1c3fca14-3716-43e9-abb9-855cba6a2d3a"
      },
      "execution_count": 2,
      "outputs": [
        {
          "output_type": "error",
          "ename": "NameError",
          "evalue": "name 'gpu_available' is not defined",
          "traceback": [
            "\u001b[0;31m---------------------------------------------------------------------------\u001b[0m",
            "\u001b[0;31mNameError\u001b[0m                                 Traceback (most recent call last)",
            "\u001b[0;32m<ipython-input-2-9b01f6e05514>\u001b[0m in \u001b[0;36m<cell line: 1>\u001b[0;34m()\u001b[0m\n\u001b[0;32m----> 1\u001b[0;31m \u001b[0mgpu_available\u001b[0m\u001b[0;34m\u001b[0m\u001b[0;34m\u001b[0m\u001b[0m\n\u001b[0m",
            "\u001b[0;31mNameError\u001b[0m: name 'gpu_available' is not defined"
          ]
        }
      ]
    },
    {
      "cell_type": "code",
      "source": [],
      "metadata": {
        "id": "-no-QDlbF6Fh"
      },
      "execution_count": null,
      "outputs": []
    }
  ]
}