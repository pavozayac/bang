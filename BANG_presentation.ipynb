{
  "nbformat": 4,
  "nbformat_minor": 0,
  "metadata": {
    "colab": {
      "provenance": [],
      "authorship_tag": "ABX9TyNis06K9mzqCe0XE9bM7muz"
    },
    "kernelspec": {
      "name": "python3",
      "display_name": "Python 3"
    },
    "language_info": {
      "name": "python"
    }
  },
  "cells": [
    {
      "cell_type": "markdown",
      "source": [
        "#BooleAn Networks on Gpu (BANG) - demonstration\n",
        "This notebook showcases abilities of BANG, a python library for simulation of Probabilistic Boolean Networks on GPU.\n",
        "\n",
        "##What is a (Probabilistic) Boolean Network?\n",
        "Probabilistic Boolean Networks are used for"
      ],
      "metadata": {
        "id": "X50stypjRZvu"
      }
    },
    {
      "cell_type": "code",
      "execution_count": null,
      "metadata": {
        "id": "mw_nkdtORVxX"
      },
      "outputs": [],
      "source": []
    }
  ]
}